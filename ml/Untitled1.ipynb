{
 "cells": [
  {
   "cell_type": "code",
   "execution_count": 1,
   "metadata": {},
   "outputs": [],
   "source": [
    "import pandas as pd"
   ]
  },
  {
   "cell_type": "code",
   "execution_count": 5,
   "metadata": {},
   "outputs": [],
   "source": [
    "data = pd.read_excel('original_data.xlsx')"
   ]
  },
  {
   "cell_type": "code",
   "execution_count": 6,
   "metadata": {},
   "outputs": [
    {
     "data": {
      "text/html": [
       "<div>\n",
       "<style scoped>\n",
       "    .dataframe tbody tr th:only-of-type {\n",
       "        vertical-align: middle;\n",
       "    }\n",
       "\n",
       "    .dataframe tbody tr th {\n",
       "        vertical-align: top;\n",
       "    }\n",
       "\n",
       "    .dataframe thead th {\n",
       "        text-align: right;\n",
       "    }\n",
       "</style>\n",
       "<table border=\"1\" class=\"dataframe\">\n",
       "  <thead>\n",
       "    <tr style=\"text-align: right;\">\n",
       "      <th></th>\n",
       "      <th>caller_id</th>\n",
       "      <th>type</th>\n",
       "      <th>result</th>\n",
       "      <th>人工判定违规</th>\n",
       "      <th>tag</th>\n",
       "      <th>final_tag</th>\n",
       "    </tr>\n",
       "  </thead>\n",
       "  <tbody>\n",
       "    <tr>\n",
       "      <th>0</th>\n",
       "      <td>C20190509164012ACB297882b944</td>\n",
       "      <td>B</td>\n",
       "      <td>你好！专门配件的。小帐。没啥的配件！嗯嗯张老乔。对。噢厂价1500座车1400。到郯城南二环...</td>\n",
       "      <td>无</td>\n",
       "      <td>NaN</td>\n",
       "      <td>无</td>\n",
       "    </tr>\n",
       "    <tr>\n",
       "      <th>1</th>\n",
       "      <td>C20190509164012ACB297882b944</td>\n",
       "      <td>A</td>\n",
       "      <td>喂你好你好，你那个谈成什么或是老板？哦没有陪酒。哦。那给多少钱啊。起煤气的啊皋兰呢。看看那。...</td>\n",
       "      <td>无</td>\n",
       "      <td>NaN</td>\n",
       "      <td>无</td>\n",
       "    </tr>\n",
       "    <tr>\n",
       "      <th>2</th>\n",
       "      <td>C20190510091435ACB02ffb0104a</td>\n",
       "      <td>B</td>\n",
       "      <td>你说。工字钢。上面不都写着吗？60吨货。给你1900。30块钱您一千。八百30块钱，那60天...</td>\n",
       "      <td>无</td>\n",
       "      <td>NaN</td>\n",
       "      <td>无</td>\n",
       "    </tr>\n",
       "    <tr>\n",
       "      <th>3</th>\n",
       "      <td>C20190510091435ACB02ffb0104a</td>\n",
       "      <td>A</td>\n",
       "      <td>唉老板，你好！唉你装什么钢板大溧阳的。工资刚多少的呢？噢60吨，我多少钱等啊拿过来。先抢救1...</td>\n",
       "      <td>无</td>\n",
       "      <td>NaN</td>\n",
       "      <td>无</td>\n",
       "    </tr>\n",
       "    <tr>\n",
       "      <th>4</th>\n",
       "      <td>C20190428123317ACB4eee70d67f</td>\n",
       "      <td>B</td>\n",
       "      <td>你记一个号码。你直接打断问他！是吧？134。0008。三个零一个八，噢然后后面是9790，啊...</td>\n",
       "      <td>有</td>\n",
       "      <td>NaN</td>\n",
       "      <td>有</td>\n",
       "    </tr>\n",
       "  </tbody>\n",
       "</table>\n",
       "</div>"
      ],
      "text/plain": [
       "                      caller_id type  \\\n",
       "0  C20190509164012ACB297882b944    B   \n",
       "1  C20190509164012ACB297882b944    A   \n",
       "2  C20190510091435ACB02ffb0104a    B   \n",
       "3  C20190510091435ACB02ffb0104a    A   \n",
       "4  C20190428123317ACB4eee70d67f    B   \n",
       "\n",
       "                                              result 人工判定违规  tag final_tag  \n",
       "0  你好！专门配件的。小帐。没啥的配件！嗯嗯张老乔。对。噢厂价1500座车1400。到郯城南二环...      无  NaN         无  \n",
       "1  喂你好你好，你那个谈成什么或是老板？哦没有陪酒。哦。那给多少钱啊。起煤气的啊皋兰呢。看看那。...      无  NaN         无  \n",
       "2  你说。工字钢。上面不都写着吗？60吨货。给你1900。30块钱您一千。八百30块钱，那60天...      无  NaN         无  \n",
       "3  唉老板，你好！唉你装什么钢板大溧阳的。工资刚多少的呢？噢60吨，我多少钱等啊拿过来。先抢救1...      无  NaN         无  \n",
       "4  你记一个号码。你直接打断问他！是吧？134。0008。三个零一个八，噢然后后面是9790，啊...      有  NaN         有  "
      ]
     },
     "execution_count": 6,
     "metadata": {},
     "output_type": "execute_result"
    }
   ],
   "source": [
    "data.head()"
   ]
  },
  {
   "cell_type": "code",
   "execution_count": 12,
   "metadata": {},
   "outputs": [
    {
     "data": {
      "text/plain": [
       "12876"
      ]
     },
     "execution_count": 12,
     "metadata": {},
     "output_type": "execute_result"
    }
   ],
   "source": [
    "data['final_tag'].count()"
   ]
  },
  {
   "cell_type": "code",
   "execution_count": 24,
   "metadata": {},
   "outputs": [
    {
     "name": "stdout",
     "output_type": "stream",
     "text": [
      "你记一个号码。你直接打断问他！是吧？134。0008。三个零一个八，噢然后后面是9790，啊对，啊9790是吧？\n"
     ]
    }
   ],
   "source": [
    "print data.loc[data['final_tag'] == u'有']['result'][4]"
   ]
  },
  {
   "cell_type": "code",
   "execution_count": 26,
   "metadata": {},
   "outputs": [],
   "source": [
    "import jieba"
   ]
  },
  {
   "cell_type": "code",
   "execution_count": 29,
   "metadata": {},
   "outputs": [
    {
     "name": "stderr",
     "output_type": "stream",
     "text": [
      "Building prefix dict from the default dictionary ...\n",
      "Dumping model to file cache /tmp/jieba.cache\n",
      "Loading model cost 1.454 seconds.\n",
      "Prefix dict has been built successfully.\n"
     ]
    },
    {
     "name": "stdout",
     "output_type": "stream",
     "text": [
      "这是 一个 测试\n"
     ]
    }
   ],
   "source": [
    "print \" \".join(jieba.cut('这是一个测试'))"
   ]
  },
  {
   "cell_type": "code",
   "execution_count": 34,
   "metadata": {},
   "outputs": [],
   "source": [
    "data = data.loc[data['result'].notna()]"
   ]
  },
  {
   "cell_type": "code",
   "execution_count": 35,
   "metadata": {},
   "outputs": [],
   "source": [
    "data['segment'] = data['result'].apply(lambda x : \" \".join(jieba.cut(x)))"
   ]
  },
  {
   "cell_type": "code",
   "execution_count": 36,
   "metadata": {},
   "outputs": [
    {
     "data": {
      "text/plain": [
       "0        你好 ！ 专门 配件 的 。 小帐 。 没 啥 的 配件 ！ 嗯 嗯 张 老乔 。 对 。 ...\n",
       "1        喂 你好 你好 ， 你 那个 谈 成 什么 或是 老板 ？ 哦 没有 陪酒 。 哦 。 那 ...\n",
       "2        你 说 。 工字钢 。 上面 不 都 写 着 吗 ？ 60 吨 货 。 给 你 1900 。...\n",
       "3        唉 老板 ， 你好 ！ 唉 你 装 什么 钢板 大 溧阳 的 。 工资 刚 多少 的 呢 ？...\n",
       "4        你 记 一个 号码 。 你 直接 打断 问 他 ！ 是 吧 ？ 134 。 0008 。 三...\n",
       "5        唉 你 那个 司机 走 不 走 ， 啊 直接 打电话 问 他 。 噢 你 说 一下 我 。 ...\n",
       "6        喂喂 你好 ， 唉 对 对 对 。 都 在 一起 ， 都 在 东方 钢材 城 。 都 在 里...\n",
       "7        剑 三 。 唉 你好 ， 喂 。 嗯 你 那个 是 两张 一切 对 吧 ？ 这 两个 地方 ...\n",
       "8        晚饭 。 喂装 水泥板 ， 您 是 几米 的 错 ！ 啊 你 ！ 你 那个 车子 经常 在 ...\n",
       "9        喂 你好 。 那 江阴 到 常州 。 的 抓 什么 或 。 水泥板 ， 我 是 7 米 5 ...\n",
       "10       唉 你好 ， 我 不 你 不要 问 我 ， 你们 。 是 哪里 ？ 你们 是 哪里 ？ 啊 ...\n",
       "11       啊 你 那个 会商 ！ 啊 啊 是 的 。 他 这个 什么 隐私 号码 这样 那样 的 ， ...\n",
       "12       啊 三 ， 你 这么 你 酒 米 了 ， 酒米 六 ， 啊 平板 还 高 啦 。 啊 平板 ...\n",
       "13       你 这个 叫 把 父母 送到 这个 附近 啊 无 电无电 看到 你 是 吧 ！ 行 虎门 。...\n",
       "14       啊 嗯 对 。 不是 不是 哦 嗯 十个 。 就 十个 十个 。 120 。 嗯 没有 没有...\n",
       "15       嗯 你 这个 出货 是 是 那个 大桶 ， 就 是从 关林 回来 的 ， 是 普 不是 危险...\n",
       "16       啊 对 对 对 对 二 不 对 ？ 啊 说实话 ， 那 那 那个 就是 为 为 你 噢 你 ...\n",
       "17       喂 你 那个 是 40 方 。 嘎 冻 的 。 啊 你 那个 40 发是 咋 装 的 ？ 晋...\n",
       "18       这个 是 隐私 号法 。 我 后来 想 起来 这里 ， 但是 隐私 号 。 现在 无锡 到 ...\n",
       "19       那 我加 你 微信 空调 ！ 我 。 啊 有事 好 ， 那 你 你 你 你 微 信号 多少 ...\n",
       "20       你好 你好 。 你 打 那个 第一个 手机号 ， 吧 我 上面 不是 有 第一个 手机号码 ...\n",
       "21       唉 你好 。 那个 周庄 到 李家 的 货 ， 你 要 要 要 六米 多 的 车 ， 啊 第...\n",
       "22       挺 好 的 。 你 哪里 啊 你 的 ！ 力量 ， 你 多 大气 ， 啊 就 进入 的 过 ...\n",
       "24       将 阴道 里 一拉 那个 塑料制品 ， 就是 那个 塑料 假 草坪 。 从 那个 江阴 工业...\n",
       "25       你 那个 讲 一 道理 啦 什么 ？ 啊 什么 是 塑料 什么 ？ 塑料 的 啊 假 的 草...\n",
       "26       唉 你好 ！ 对 ， 那个 是 那个 税银刚 的 啊 一包 一包 打 啊 那个 打包 好 了...\n",
       "27       喂 你好 。 你 有 一趟 货要 拉 的 进场 吗 ？ 数据 。 噢 是 什么 钢 啊 。 ...\n",
       "28       喂 你 短信 的 啦 。 是 对话 ， 对 。 对 。 啊 下午 就 能 转 了 ！ 150...\n",
       "29       唉 你好 ， 你 那个 上 沂水 的 那个 能 给 多少 钱 啊 到 吧 ？ 噢 他 那 有...\n",
       "30       唉 微信 就 这个 手机号 。 不是 。 我 的 事 哦 像 可能 满包 现在 开始 那个 ...\n",
       "                               ...                        \n",
       "12846    唉 你好 。 嗯 那个 你 是 什么 车子 ？ 什么 ？ 依 维柯 是 吧 ？ 依 维柯 可...\n",
       "12847    你好 朝朝 朝朝 的 货到 农户 场 多少 钱 呢 又 会 多 。 一 微克 。 一 微克 ...\n",
       "12848    啊 那个 你 多 大 的 车子 啊 三米 的 ， 他 他 好像 要 17 米 5 还是 16...\n",
       "12849    喂 你好 。 你 那个 宜兴 倒 长城 的 什么 ？ 货 啊 。 货 13 米 的 。 因为...\n",
       "12850    坏坏 ， 唉 你好 ！ 那个 2000 ！ 对 。 啊 。 全部 抄税 管理 ， 帮 我 。...\n",
       "12851    喂 。 你 到 临沂 临沭 。 那个 货给 多少 钱 ？ 倒车 。 噢 六 。 我 看 你 ...\n",
       "12852    啊 。 对 对 对 对 ， 怎么 你 显示 南京 的 号码 ！ tmd 是 他 那个 什么 ...\n",
       "12853    喂 。 哥方桥 。 庄桥 你 搁 哪里 ？ 噢 那 那 你 过 常常 收入 院里 那 也 不...\n",
       "12854    已经 到 常州 了 吗 ？ 宜兴 到 常州 啦 什么 ？ 你 那 怎么 你 想 你 也 想 ...\n",
       "12855    喂 你好 。 别 一行 我 跟 他 说 的 。 网桥 。 我 马上 过长 新手 客栈 。 啦...\n",
       "12856    对 ， 啊 喜欢 是 南京 后 ， 这 是 运 慢慢 运 慢慢 实行 的 一种 。 嗯 就是...\n",
       "12857    你 得 用 深 南京 好 的 。 对 对 对 。 对 。 我 说 呢 我 这个 找 这个 找...\n",
       "12858    嗯 看到 了 看到 了 ， 就是 你 记 我 手机号码 ， 我 是 正在 开车 的 ， 你 ...\n",
       "12859    唉 大哥 ， 我 给 你 支付 了 ， 你 看到 了 吗 ？ 噢 而且 你 晓得 我 我 我...\n",
       "12860    唉 什么 ？ 加 我 的 微信加 不 进去 。 加 我 的 。 对 ， 啊 你 打错 电话 ...\n",
       "12861    喂 你好 ， 唉 你 这个 号码 怎么 是 186 ？ 26436734 ， 啊 这个 微信...\n",
       "12862    你好 。 啊 对 。 你 现在 是 空车 ， 装 的话 要 下午 4 点钟 才能 装 。 嗯...\n",
       "12863    喂 你好 。 那个 我 看 你 发 宜兴 丁山到 常州 的 ， 啊 能 拿 多少 钱 ？ 空...\n",
       "12864    现在 这个 越南 和 预览版 弄 的 ！ 话 ， 啊 。 我 的 号码 是 189 的 ， ...\n",
       "12865    号码 加 不了 吗 ？ 啊 对 ， 这个 号码 手上 这个 号码 是 186 的 ， 吧 。...\n",
       "12866    唉 你 说 能 送 多少 多 ？ 就 两家 货 。 就 两件 货 。 啊 大概 五六十 分 ...\n",
       "12867    你好 。 你 问 一下 那 什么 铁块 是 什么 东西 啊 会填 什么 ？ 啊 两件 货 。...\n",
       "12868    第一个 号码 你 打算 问 他 。 啊 噢 134 。 0008 。 0301 个 八 。 ...\n",
       "12869    从 周庄 到 窑厂 ， 那个 两吨 配件 ！ 啊 对答 那个 矿电 号码 。 我记 一下 。...\n",
       "12870    啊 现在 对 新建 都 区 工业 大道 ！ 对 。 就 十三四 的 二十二 十三个 木 箱子...\n",
       "12871    喂 。 已经 装 到 木箱 ， 了 什么 时间 到 哪 ？ 是 在 新 健壮 的 扒拉 到 ...\n",
       "12872    装 ！ 成装 的 钢管 还 没有 给 800 块钱 。 那 你 自己 导航 看 一下 ， 嘛...\n",
       "12873    那个 呃 那个 月 盛装 的 钢管 有没有 花掉 了 ？ 那个 到 常州 武 进去 的 是 ...\n",
       "12874    那样 呢 ？ 就 做 那个 就 就 就 模板 啊 。 反正 木 ！ 木 木头 的 吧 。 教...\n",
       "12875    喂 ， 你好 ， 啊 噢 你 那个 五 无锡 锡山 的 那个 去 那个 。 那个 飞 现在 ...\n",
       "Name: segment, Length: 12661, dtype: object"
      ]
     },
     "execution_count": 36,
     "metadata": {},
     "output_type": "execute_result"
    }
   ],
   "source": [
    "data['segment']"
   ]
  },
  {
   "cell_type": "code",
   "execution_count": null,
   "metadata": {},
   "outputs": [],
   "source": []
  }
 ],
 "metadata": {
  "kernelspec": {
   "display_name": "Python (2.7)",
   "language": "python",
   "name": "python27"
  },
  "language_info": {
   "codemirror_mode": {
    "name": "ipython",
    "version": 2
   },
   "file_extension": ".py",
   "mimetype": "text/x-python",
   "name": "python",
   "nbconvert_exporter": "python",
   "pygments_lexer": "ipython2",
   "version": "2.7.17"
  }
 },
 "nbformat": 4,
 "nbformat_minor": 2
}
